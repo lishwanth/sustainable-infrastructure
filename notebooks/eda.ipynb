{
 "cells": [
  {
   "cell_type": "code",
   "execution_count": null,
   "metadata": {},
   "outputs": [],
   "source": [
    "import numpy as np\n",
    "import matplotlib.pyplot as plt\n",
    "import seaborn as sns\n",
    "\n",
    "# Load processed images\n",
    "images = np.load(\"../data_pipeline/processed_data/processed_images.npy\")\n",
    "\n",
    "# Display sample images\n",
    "fig, ax = plt.subplots(3, 3, figsize=(10, 10))\n",
    "for i in range(3):\n",
    "    for j in range(3):\n",
    "        ax[i, j].imshow(images[i*3+j])\n",
    "        ax[i, j].axis('off')\n",
    "plt.show()\n",
    "\n",
    "# Further analysis such as class distribution, pixel intensity histograms, etc.\n"
   ]
  }
 ],
 "metadata": {
  "language_info": {
   "name": "python"
  }
 },
 "nbformat": 4,
 "nbformat_minor": 2
}
